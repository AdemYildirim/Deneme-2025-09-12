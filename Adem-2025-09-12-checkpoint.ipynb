{
 "cells": [
  {
   "cell_type": "markdown",
   "id": "8c279262-8a12-45ef-9821-d44a3acfdccb",
   "metadata": {},
   "source": [
    "## PORTFÖY TEORİSİ DENEME III"
   ]
  },
  {
   "cell_type": "code",
   "execution_count": 1,
   "id": "29f25ba0-a4fc-4a71-a1cf-e19225b36d69",
   "metadata": {},
   "outputs": [],
   "source": [
    "import pandas as pd\n",
    "import numpy as np\n",
    "\n",
    "import statsmodels.api as sm\n",
    "from scipy.fft import fft, fftfreq\n",
    "\n",
    "import matplotlib.pyplot as plt\n",
    "import seaborn as sns\n",
    "\n",
    "import json\n",
    "import math\n",
    "\n",
    "import requests "
   ]
  },
  {
   "cell_type": "code",
   "execution_count": 2,
   "id": "9380d723-e8df-4977-b283-8be898ada715",
   "metadata": {},
   "outputs": [],
   "source": [
    "url = \"https://giris.epias.com.tr\"\n",
    " \n",
    "headertgt = {\"Content-Type\" : \"application/x-www-form-urlencoded\",\n",
    "             \"Accept\" : \"text/plain\"}\n",
    " \n",
    "paramtgt = {\"username\" : \"ademyildirimmakine@gmail.com\",\n",
    "            \"password\" : \"Ay.12345\"}"
   ]
  },
  {
   "cell_type": "code",
   "execution_count": 3,
   "id": "199eec20-d718-45a8-bd9e-587641c268bf",
   "metadata": {},
   "outputs": [],
   "source": [
    "date1 = \"2025-02-01T00:00:00+03:00\"\n",
    "date2 = \"2025-02-28T00:00:00+03:00\" #sontarihin tamamını alıyor\n",
    "\n",
    "base_path = \"https://seffaflik.epias.com.tr/electricity-service\"\n",
    "TGT_response = requests.post(url+\"/cas/v1/tickets\", headers = headertgt, params = paramtgt)\n",
    "\n",
    "header={\"Content-Type\" : \"application/json\",\n",
    "        \"Accept\" : \"application/json\",\n",
    "        \"Accept-Language\" :\"en\",\n",
    "        \"TGT\" : TGT_response.text}"
   ]
  },
  {
   "cell_type": "code",
   "execution_count": 4,
   "id": "95e120c5-ec97-4e9a-972d-5bf4712cb11e",
   "metadata": {},
   "outputs": [],
   "source": [
    "params = json.dumps({\"startDate\": date1, \"endDate\": date2,\"page\": {\"number\": \"\", \"size\": \"\", \"total\": \"\", \"sort\": {\"field\": \"date\",  \"direction\": \"ASC\"}}})\n",
    "result  = requests.request(\"POST\", base_path+\"/v1/markets/dam/data/mcp\",  data = params, headers=header)"
   ]
  },
  {
   "cell_type": "code",
   "execution_count": 5,
   "id": "437c280a-97cf-4072-b1a9-47e8f9f47d88",
   "metadata": {},
   "outputs": [
    {
     "name": "stderr",
     "output_type": "stream",
     "text": [
      "C:\\Users\\gulis\\AppData\\Local\\Temp\\ipykernel_7508\\2422603505.py:3: UserWarning: Could not infer format, so each element will be parsed individually, falling back to `dateutil`. To ensure parsing is consistent and as-expected, please specify a format.\n",
      "  df['hour'] = pd.to_datetime(df['hour']).dt.hour\n"
     ]
    }
   ],
   "source": [
    "df = pd.DataFrame(result.json()['items'])\n",
    "df['date'] = pd.to_datetime(df['date'])\n",
    "df['hour'] = pd.to_datetime(df['hour']).dt.hour"
   ]
  },
  {
   "cell_type": "markdown",
   "id": "44a960d6-7f23-434c-9005-ca5b1f8cc03b",
   "metadata": {},
   "source": [
    "4 Farklı kaynak için farklı fiyatlar seçildi. \n",
    "\n",
    "+ Sabit USD             => 67 EUR/MWh\n",
    "+ Sabit EUR             => 65 EUR/MWh\n",
    "+ Sabit TRY             => 2500-2000 TL/MWh\n",
    "+ Saarlik Fiyat TRY/MWh => 1.03 artırıldı"
   ]
  },
  {
   "cell_type": "code",
   "execution_count": 83,
   "id": "024b0f7a-3956-49a2-955d-84dd4069047d",
   "metadata": {},
   "outputs": [
    {
     "data": {
      "text/html": [
       "<div>\n",
       "<style scoped>\n",
       "    .dataframe tbody tr th:only-of-type {\n",
       "        vertical-align: middle;\n",
       "    }\n",
       "\n",
       "    .dataframe tbody tr th {\n",
       "        vertical-align: top;\n",
       "    }\n",
       "\n",
       "    .dataframe thead th {\n",
       "        text-align: right;\n",
       "    }\n",
       "</style>\n",
       "<table border=\"1\" class=\"dataframe\">\n",
       "  <thead>\n",
       "    <tr style=\"text-align: right;\">\n",
       "      <th></th>\n",
       "      <th>hour</th>\n",
       "      <th>price</th>\n",
       "      <th>priceUsd</th>\n",
       "      <th>priceEur</th>\n",
       "      <th>res</th>\n",
       "      <th>ges</th>\n",
       "      <th>tes</th>\n",
       "      <th>des</th>\n",
       "    </tr>\n",
       "  </thead>\n",
       "  <tbody>\n",
       "    <tr>\n",
       "      <th>count</th>\n",
       "      <td>672.000000</td>\n",
       "      <td>672.000000</td>\n",
       "      <td>672.000000</td>\n",
       "      <td>672.000000</td>\n",
       "      <td>672.000000</td>\n",
       "      <td>672.000000</td>\n",
       "      <td>672.00000</td>\n",
       "      <td>672.000000</td>\n",
       "    </tr>\n",
       "    <tr>\n",
       "      <th>mean</th>\n",
       "      <td>11.500000</td>\n",
       "      <td>2478.279702</td>\n",
       "      <td>68.745967</td>\n",
       "      <td>66.009464</td>\n",
       "      <td>2415.345804</td>\n",
       "      <td>2440.417181</td>\n",
       "      <td>2250.00000</td>\n",
       "      <td>2552.628093</td>\n",
       "    </tr>\n",
       "    <tr>\n",
       "      <th>std</th>\n",
       "      <td>6.927343</td>\n",
       "      <td>416.377606</td>\n",
       "      <td>11.545798</td>\n",
       "      <td>11.070411</td>\n",
       "      <td>13.740089</td>\n",
       "      <td>26.368111</td>\n",
       "      <td>250.18622</td>\n",
       "      <td>428.868934</td>\n",
       "    </tr>\n",
       "    <tr>\n",
       "      <th>min</th>\n",
       "      <td>0.000000</td>\n",
       "      <td>750.000000</td>\n",
       "      <td>20.970000</td>\n",
       "      <td>20.190000</td>\n",
       "      <td>2393.173700</td>\n",
       "      <td>2389.417738</td>\n",
       "      <td>2000.00000</td>\n",
       "      <td>772.500000</td>\n",
       "    </tr>\n",
       "    <tr>\n",
       "      <th>25%</th>\n",
       "      <td>5.750000</td>\n",
       "      <td>2199.990000</td>\n",
       "      <td>60.690000</td>\n",
       "      <td>58.392500</td>\n",
       "      <td>2405.548774</td>\n",
       "      <td>2415.022763</td>\n",
       "      <td>2000.00000</td>\n",
       "      <td>2265.989700</td>\n",
       "    </tr>\n",
       "    <tr>\n",
       "      <th>50%</th>\n",
       "      <td>11.500000</td>\n",
       "      <td>2500.010000</td>\n",
       "      <td>69.730000</td>\n",
       "      <td>67.245000</td>\n",
       "      <td>2414.423743</td>\n",
       "      <td>2434.994405</td>\n",
       "      <td>2250.00000</td>\n",
       "      <td>2575.010300</td>\n",
       "    </tr>\n",
       "    <tr>\n",
       "      <th>75%</th>\n",
       "      <td>17.250000</td>\n",
       "      <td>2848.622500</td>\n",
       "      <td>78.815000</td>\n",
       "      <td>75.732500</td>\n",
       "      <td>2427.511377</td>\n",
       "      <td>2461.983153</td>\n",
       "      <td>2500.00000</td>\n",
       "      <td>2934.081175</td>\n",
       "    </tr>\n",
       "    <tr>\n",
       "      <th>max</th>\n",
       "      <td>23.000000</td>\n",
       "      <td>3000.000000</td>\n",
       "      <td>83.980000</td>\n",
       "      <td>80.760000</td>\n",
       "      <td>2438.149156</td>\n",
       "      <td>2481.621557</td>\n",
       "      <td>2500.00000</td>\n",
       "      <td>3090.000000</td>\n",
       "    </tr>\n",
       "  </tbody>\n",
       "</table>\n",
       "</div>"
      ],
      "text/plain": [
       "             hour        price    priceUsd    priceEur          res  \\\n",
       "count  672.000000   672.000000  672.000000  672.000000   672.000000   \n",
       "mean    11.500000  2478.279702   68.745967   66.009464  2415.345804   \n",
       "std      6.927343   416.377606   11.545798   11.070411    13.740089   \n",
       "min      0.000000   750.000000   20.970000   20.190000  2393.173700   \n",
       "25%      5.750000  2199.990000   60.690000   58.392500  2405.548774   \n",
       "50%     11.500000  2500.010000   69.730000   67.245000  2414.423743   \n",
       "75%     17.250000  2848.622500   78.815000   75.732500  2427.511377   \n",
       "max     23.000000  3000.000000   83.980000   80.760000  2438.149156   \n",
       "\n",
       "               ges         tes          des  \n",
       "count   672.000000   672.00000   672.000000  \n",
       "mean   2440.417181  2250.00000  2552.628093  \n",
       "std      26.368111   250.18622   428.868934  \n",
       "min    2389.417738  2000.00000   772.500000  \n",
       "25%    2415.022763  2000.00000  2265.989700  \n",
       "50%    2434.994405  2250.00000  2575.010300  \n",
       "75%    2461.983153  2500.00000  2934.081175  \n",
       "max    2481.621557  2500.00000  3090.000000  "
      ]
     },
     "execution_count": 83,
     "metadata": {},
     "output_type": "execute_result"
    }
   ],
   "source": [
    "df[\"res\"] = df[\"price\"]/df[\"priceUsd\"]*67\n",
    "df[\"ges\"] = df[\"price\"]/df[\"priceEur\"]*65\n",
    "df['tes'] = df['hour'].apply(lambda x: 2500  if x >=12  else 2000 )\n",
    "df['des'] = df[\"price\"] * 1.03\n",
    "\n",
    "df.describe()"
   ]
  },
  {
   "cell_type": "code",
   "execution_count": 84,
   "id": "f19df833-44ca-4213-8de3-85613e69a7e7",
   "metadata": {},
   "outputs": [],
   "source": [
    "def portfolio(prices,C,a):\n",
    "    N = prices.shape[1]\n",
    "    lam = np.ones(N)\n",
    "    Cov = prices.cov()\n",
    "    P = prices.mean()\n",
    "    tmp = np.matmul(np.linalg.inv(Cov),(lam - P*a/(2*C)))\n",
    "    return tmp * (C / tmp.sum())"
   ]
  },
  {
   "cell_type": "code",
   "execution_count": 85,
   "id": "51514994-4b4b-46c5-9e3c-eeb7c2c08222",
   "metadata": {},
   "outputs": [],
   "source": [
    "prices = df[[\"res\",\"ges\",\"tes\",\"des\"]]"
   ]
  },
  {
   "cell_type": "code",
   "execution_count": 86,
   "id": "c87c7fb8-b124-46e2-8a2d-ea7cc09cb5b1",
   "metadata": {},
   "outputs": [
    {
     "data": {
      "text/plain": [
       "array([ 1.65695538e+02, -6.59292791e+01,  1.20844679e-01,  1.12896254e-01])"
      ]
     },
     "execution_count": 86,
     "metadata": {},
     "output_type": "execute_result"
    }
   ],
   "source": [
    "portfolio(prices,100,1.0)"
   ]
  },
  {
   "cell_type": "markdown",
   "id": "f7140386-a253-428e-b4ff-5bf58cf2f739",
   "metadata": {},
   "source": [
    "Yukarıda portfolyoda negatif çıkan değerler 'satmak' demek. Bizim durumda pek mantıklı değil ama mesela rüzgar elektrik santralimiz var olsaydı, almak yerine 2.85 ünite satsaydık sonra da elektriği dolar üzerinden 102.85 ünite satın alsaydık protfolyoyu optimize etmiş olurduk."
   ]
  },
  {
   "cell_type": "code",
   "execution_count": null,
   "id": "b69e4b40-ac9b-4cb2-b107-181f7280658f",
   "metadata": {},
   "outputs": [],
   "source": []
  }
 ],
 "metadata": {
  "kernelspec": {
   "display_name": "Python [conda env:base] *",
   "language": "python",
   "name": "conda-base-py"
  },
  "language_info": {
   "codemirror_mode": {
    "name": "ipython",
    "version": 3
   },
   "file_extension": ".py",
   "mimetype": "text/x-python",
   "name": "python",
   "nbconvert_exporter": "python",
   "pygments_lexer": "ipython3",
   "version": "3.13.5"
  }
 },
 "nbformat": 4,
 "nbformat_minor": 5
}
